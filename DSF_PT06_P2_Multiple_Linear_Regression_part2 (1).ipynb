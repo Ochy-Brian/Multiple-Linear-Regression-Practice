{
  "nbformat": 4,
  "nbformat_minor": 0,
  "metadata": {
    "colab": {
      "provenance": []
    },
    "kernelspec": {
      "name": "python3",
      "display_name": "Python 3"
    },
    "language_info": {
      "name": "python"
    }
  },
  "cells": [
    {
      "cell_type": "markdown",
      "source": [
        "#1 Multiple Linear regression part2\n",
        "## Objectives\n",
        "*   a. use statmodel with constant\n",
        "*   b. manual and sklearn scaling\n",
        "*   c. checking different regression metrics\n",
        "*   d. AOB\n",
        "\n"
      ],
      "metadata": {
        "id": "mY7pKJiFZSjY"
      }
    },
    {
      "cell_type": "code",
      "source": [
        "#importing libraries\n",
        "import numpy as np\n",
        "import pandas as pd\n",
        "from matplotlib import pyplot as plt\n",
        "import seaborn as sns\n",
        "\n",
        "import statsmodels.api as sm\n",
        "from sklearn.preprocessing import OneHotEncoder, StandardScaler\n",
        "from sklearn.datasets import make_regression\n",
        "from sklearn.linear_model import LinearRegression\n",
        "import sklearn.metrics as metrics\n",
        "from random import gauss\n",
        "from mpl_toolkits.mplot3d import Axes3D\n",
        "from scipy import stats as stats\n",
        "%matplotlib inline\n"
      ],
      "metadata": {
        "id": "Dmi6A8mlBPeI"
      },
      "execution_count": 34,
      "outputs": []
    },
    {
      "cell_type": "code",
      "source": [
        "#loading the dataset\n",
        "df = pd.read_csv(\"/content/WineQT.csv\")\n",
        "df.head()"
      ],
      "metadata": {
        "id": "OdxVqyPJiWJJ"
      },
      "execution_count": null,
      "outputs": []
    },
    {
      "cell_type": "code",
      "source": [
        "#checking dttypes\n",
        "df.info()"
      ],
      "metadata": {
        "id": "gprfGmJArG5r"
      },
      "execution_count": null,
      "outputs": []
    },
    {
      "cell_type": "code",
      "source": [
        "#statistical summary\n",
        "df.describe()"
      ],
      "metadata": {
        "id": "hvkjGVw_EfHX"
      },
      "execution_count": null,
      "outputs": []
    },
    {
      "cell_type": "markdown",
      "source": [
        "#### Preparing data for modeling"
      ],
      "metadata": {
        "id": "HThCo-pEmIuO"
      }
    },
    {
      "cell_type": "code",
      "source": [
        "#making a copy copy to be used for modeling\n",
        "wine= df.copy(deep=True)"
      ],
      "metadata": {
        "id": "YsNsoN8iuCV7"
      },
      "execution_count": 38,
      "outputs": []
    },
    {
      "cell_type": "code",
      "source": [
        "#our target variable will be alcoholic content.\n",
        "X = wine.drop(\"alcohol\", axis=1) # predictors  # data leakage\n",
        "y = wine[\"alcohol\"]# target"
      ],
      "metadata": {
        "id": "jc5fjelLsVWd"
      },
      "execution_count": 39,
      "outputs": []
    },
    {
      "cell_type": "code",
      "source": [
        "X.head()"
      ],
      "metadata": {
        "id": "Ch-F1hUY3J7I"
      },
      "execution_count": null,
      "outputs": []
    },
    {
      "cell_type": "code",
      "source": [
        "y"
      ],
      "metadata": {
        "id": "2Pa95sa13J3T"
      },
      "execution_count": null,
      "outputs": []
    },
    {
      "cell_type": "markdown",
      "source": [
        "##### Using statmodel"
      ],
      "metadata": {
        "id": "j2cu8fxDmcFs"
      }
    },
    {
      "cell_type": "code",
      "source": [
        "# statmodel\n",
        "# use sm.add_constant(), to add constant term/y-intercept\n",
        "X_con = sm.add_constant(X)# we add constant to differentiate predictor from other features.\n",
        "\n",
        "#building the model\n",
        "model =  sm.OLS(y,X_con) .fit()\n",
        "\n",
        "#getting the model summary\n",
        "model.summary()"
      ],
      "metadata": {
        "id": "5CDN6j-5s8lz"
      },
      "execution_count": null,
      "outputs": []
    },
    {
      "cell_type": "markdown",
      "source": [
        "Observation, we add a constant \"const\", due to betas we hve in an equation. this is beta 0. The constant is always 1."
      ],
      "metadata": {
        "id": "NuOUMk0LxntU"
      }
    },
    {
      "cell_type": "markdown",
      "source": [
        "### Note:\n",
        "the coefficient of density is higher since it's value was small and due to different scales, the value is multiplied by a bigger value to match the rest thus higher coefficient.\n",
        "\n",
        "We can rectify the above issue by scaling our features. This will help avoid our features from being shrinked or expanded ## this makes the coefficient interpretion esier.\n",
        "\n"
      ],
      "metadata": {
        "id": "jcPCOh-o03u8"
      }
    },
    {
      "cell_type": "markdown",
      "source": [
        "### solution: standard scaling\n",
        "There're different ways of doing this;\n",
        "\n",
        "we'll focus on standard scaling(scaling it to features respective z-scores)\n",
        "\n",
        "benefits\n",
        "1.   makes value relatively small(mean value is zero, and std deviation from the mean is 1.\n",
        "2.   easier interpretation: larger coefficient tend to be influential\n",
        "\n",
        "\n"
      ],
      "metadata": {
        "id": "5r0ZG5Pe191O"
      }
    },
    {
      "cell_type": "code",
      "source": [
        "#checking std deviation of the original predictors\n",
        "np.std(X)"
      ],
      "metadata": {
        "id": "wYvYI7Xv6PAk"
      },
      "execution_count": null,
      "outputs": []
    },
    {
      "cell_type": "code",
      "source": [
        "# standand scaling(subtract the mean of the variable/the std deviation of the variable)\n",
        "\n",
        "#including all the columns\n",
        "X_scaled = (X-np.mean(X))/np.std(X)\n",
        "X_scaled.head()\n",
        "\n",
        "#checking the statistical summary\n",
        "X_scaled.describe()"
      ],
      "metadata": {
        "id": "baCFiwHu3T5n"
      },
      "execution_count": null,
      "outputs": []
    },
    {
      "cell_type": "code",
      "source": [
        "#modeling\n",
        "X_pred = sm.add_constant(X_scaled)\n",
        "#building the model\n",
        "model2 =  sm.OLS(y,X_pred).fit()\n",
        "model2.summary()"
      ],
      "metadata": {
        "id": "ze5ru0jU5E-F"
      },
      "execution_count": null,
      "outputs": []
    },
    {
      "cell_type": "markdown",
      "source": [
        "##Note:\n",
        "\n",
        "1. After scaling when all values of x=0, it means unscalled variables equal to the mean of that variable.\n",
        "2. B0 will be the only determinant in predicting the target.\n",
        "\n"
      ],
      "metadata": {
        "id": "itjihpwlK34O"
      }
    },
    {
      "cell_type": "markdown",
      "source": [
        "### **Multiple linear Regression in scikit-learn**\n",
        "\n",
        "after trying mlr with statmodel, we'll try it with sklearn."
      ],
      "metadata": {
        "id": "EVhHKV8wLNUT"
      }
    },
    {
      "cell_type": "code",
      "source": [
        "#data to be used\n",
        "df2 = df.copy(deep=True)\n",
        "#our target variable will be alcoholic content.\n",
        "predX = df2.drop(\"alcohol\", axis=1) # predictors\n",
        "y = df2[\"alcohol\"]# target"
      ],
      "metadata": {
        "id": "sLw9ZPQeNHKG"
      },
      "execution_count": 46,
      "outputs": []
    },
    {
      "cell_type": "markdown",
      "source": [
        "#### 1. scaling the data"
      ],
      "metadata": {
        "id": "ebMUvt-_LzOF"
      }
    },
    {
      "cell_type": "code",
      "source": [
        "#a creating stndardScaler object to scale the data for us\n",
        "ss= StandardScaler()"
      ],
      "metadata": {
        "id": "CKlN1zXr5yIt"
      },
      "execution_count": 47,
      "outputs": []
    },
    {
      "cell_type": "code",
      "source": [
        "#b opply Standardscaler object to our data by using fit() and transform() method\n",
        "ss.fit(predX)\n",
        "predX_st_scaled = ss.transform(predX)"
      ],
      "metadata": {
        "id": "boqmnBgxMQjV"
      },
      "execution_count": 48,
      "outputs": []
    },
    {
      "cell_type": "code",
      "source": [
        "#checking whether the manual and the sklearn scaling is the same\n",
        "np.allclose(predX_st_scaled, X_scaled)"
      ],
      "metadata": {
        "id": "0O_hxNjGOWBO"
      },
      "execution_count": null,
      "outputs": []
    },
    {
      "cell_type": "code",
      "source": [
        "X_scaled.head()"
      ],
      "metadata": {
        "id": "21hUWTaHPg5K"
      },
      "execution_count": null,
      "outputs": []
    },
    {
      "cell_type": "code",
      "source": [
        "#checking the mean of the target variable\n",
        "y.mean()"
      ],
      "metadata": {
        "id": "f7fDqv_LPj3-"
      },
      "execution_count": null,
      "outputs": []
    },
    {
      "cell_type": "code",
      "source": [
        "#checking scaled vlue\n",
        "predX_st_scaled[:5,:]"
      ],
      "metadata": {
        "id": "JCJfKZGvP7jF"
      },
      "execution_count": null,
      "outputs": []
    },
    {
      "cell_type": "markdown",
      "source": [
        "#### Fit the Model"
      ],
      "metadata": {
        "id": "CE2D6bOlQ0Fl"
      }
    },
    {
      "cell_type": "code",
      "source": [
        "#fit the model to our training data\n",
        "lr = LinearRegression()\n",
        "lr.fit(predX_st_scaled, y)"
      ],
      "metadata": {
        "id": "aR9IzhPRQrZv"
      },
      "execution_count": null,
      "outputs": []
    },
    {
      "cell_type": "code",
      "source": [
        "#checking the coef\n",
        "#we can use coef_ attribute to regecover the result of regression.\n",
        "#list of all of data coeficient\n",
        "# we can check our statmodel coef to compare.\n",
        "lr.coef_"
      ],
      "metadata": {
        "id": "qplKUJZ3RiOR"
      },
      "execution_count": null,
      "outputs": []
    },
    {
      "cell_type": "code",
      "source": [
        "#getting the intercept\n",
        "lr.intercept_"
      ],
      "metadata": {
        "id": "zYNzP1woRzxt"
      },
      "execution_count": null,
      "outputs": []
    },
    {
      "cell_type": "code",
      "source": [
        "#we can get the r squared of our model by using score()\n",
        "lr.score(predX_st_scaled,y)"
      ],
      "metadata": {
        "id": "gR7u50TrR4hF"
      },
      "execution_count": null,
      "outputs": []
    },
    {
      "cell_type": "code",
      "source": [
        "#Getting the prodiction of our model\n",
        "y_hat = lr.predict(predX_st_scaled)\n",
        "y_hat"
      ],
      "metadata": {
        "id": "dDFzGMf4SDyV"
      },
      "execution_count": null,
      "outputs": []
    },
    {
      "cell_type": "code",
      "source": [
        "y"
      ],
      "metadata": {
        "id": "lF8zGizY-2L4"
      },
      "execution_count": null,
      "outputs": []
    },
    {
      "cell_type": "markdown",
      "source": [
        "we can now evaluate our model to see how it perfomed"
      ],
      "metadata": {
        "id": "hdkk2WGXUk3v"
      }
    },
    {
      "cell_type": "code",
      "source": [
        "#checking the predictor number again\n",
        "predX_st_scaled.shape\n"
      ],
      "metadata": {
        "id": "O5SV4WVAVjGw"
      },
      "execution_count": null,
      "outputs": []
    },
    {
      "cell_type": "code",
      "source": [
        "#create base predictor/ when my scaled values have average value of zeros in scaled term.\n",
        "base_pred=np.zeros(12).reshape(1,-1)\n",
        "base_pred"
      ],
      "metadata": {
        "id": "r2xqM0VjWDwB"
      },
      "execution_count": null,
      "outputs": []
    },
    {
      "cell_type": "code",
      "source": [
        "#getting the intercept value\n",
        "lr.predict(base_pred)# the prediction will be the intercept if the average scaled value is equal to zero."
      ],
      "metadata": {
        "id": "-GJ37vaCWiIX"
      },
      "execution_count": null,
      "outputs": []
    },
    {
      "cell_type": "markdown",
      "source": [
        "### **Model Evaluation**\n",
        "\n",
        "1. **observing residuals**."
      ],
      "metadata": {
        "id": "tPBFiXYsUxXQ"
      }
    },
    {
      "cell_type": "code",
      "source": [
        "#making predictions\n",
        "y_hat = lr.predict(predX_st_scaled)\n",
        "residual= (y-y_hat)\n",
        "\n",
        "#plot residuals\n",
        "plt.scatter(x=range(y_hat.shape[0]), y=residual, alpha=0.4);\n"
      ],
      "metadata": {
        "id": "1GHTbbXNUw72"
      },
      "execution_count": null,
      "outputs": []
    },
    {
      "cell_type": "markdown",
      "source": [
        "Observation: the model meets ll the assumption of MLR:\n",
        "1. Linearity\n",
        "2. Independence\n",
        "3. Normality\n",
        "4. Hetroskedasticity/homoscedascity(Equal Variance)"
      ],
      "metadata": {
        "id": "f8f_jlYjacpQ"
      }
    },
    {
      "cell_type": "markdown",
      "source": [
        "### **Sklearn Metrics**\n",
        "\n",
        "we have a couple of metrics in sklearn, these include\n",
        "1. R^2 score\n",
        "2. The mean Absolute error (MAE)\n",
        "3. The mean standard error (MSE)\n",
        "4. The Root mean standard error (RMSE)\n",
        "\n",
        "note: by default the metric is R^2 score.\n"
      ],
      "metadata": {
        "id": "eTrWLp7Ma5jT"
      }
    },
    {
      "cell_type": "code",
      "source": [
        "#getting the r2 score\n",
        "metrics.r2_score(y, lr.predict(predX_st_scaled))"
      ],
      "metadata": {
        "id": "-xdAaZJzbzqL"
      },
      "execution_count": null,
      "outputs": []
    },
    {
      "cell_type": "markdown",
      "source": [
        "Things to note:\n",
        "\n",
        "ensure the metric is properly calibrated. if we put simply y_bar as our prediction, then we could get r^2 score of 0. And if we predict , say y_bar +1, then we should get a negative R^2 score as demonstrated below.\n"
      ],
      "metadata": {
        "id": "CPR1mD1Geh65"
      }
    },
    {
      "cell_type": "code",
      "source": [
        "# checking with the mean of y\n",
        "avg_alcohol = np.mean(y)\n",
        "num = len(y)\n",
        "\n",
        "metrics.r2_score(y, avg_alcohol*np.ones(num))"
      ],
      "metadata": {
        "id": "cj3gNpS8UfFr"
      },
      "execution_count": null,
      "outputs": []
    },
    {
      "cell_type": "code",
      "source": [
        "#checking with the mean of y plus 1\n",
        "metrics.r2_score(y, (avg_alcohol+1) *np.ones(num))"
      ],
      "metadata": {
        "id": "T3Ie-PxqdFHp"
      },
      "execution_count": null,
      "outputs": []
    },
    {
      "cell_type": "code",
      "source": [
        "#computing MAE\n",
        "metrics.mean_absolute_error(y, lr.predict(predX_st_scaled))"
      ],
      "metadata": {
        "id": "45pfbNe-dYPi"
      },
      "execution_count": null,
      "outputs": []
    },
    {
      "cell_type": "code",
      "source": [
        "#computing MSE\n",
        "metrics.mean_squared_error(y, lr.predict(predX_st_scaled))"
      ],
      "metadata": {
        "id": "5hB7hbqzdjax"
      },
      "execution_count": null,
      "outputs": []
    },
    {
      "cell_type": "code",
      "source": [
        "#Root scared error\n",
        "#computing RMSE\n",
        "metrics.mean_squared_error(y, lr.predict(predX_st_scaled), squared=False),#squared=False"
      ],
      "metadata": {
        "id": "mXp7Jcw1gH8q"
      },
      "execution_count": null,
      "outputs": []
    },
    {
      "cell_type": "markdown",
      "source": [
        "**END**"
      ],
      "metadata": {
        "id": "jIfRuUBLhjZ6"
      }
    }
  ]
}